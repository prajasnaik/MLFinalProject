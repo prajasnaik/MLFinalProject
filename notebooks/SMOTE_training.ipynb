{
 "cells": [
  {
   "cell_type": "code",
   "execution_count": 3,
   "metadata": {},
   "outputs": [],
   "source": [
    "import pandas as pd"
   ]
  },
  {
   "cell_type": "code",
   "execution_count": 4,
   "metadata": {},
   "outputs": [],
   "source": [
    "df = pd.read_csv('../data/label_encoded_telecom_data.csv')"
   ]
  },
  {
   "cell_type": "code",
   "execution_count": 7,
   "metadata": {},
   "outputs": [
    {
     "name": "stdout",
     "output_type": "stream",
     "text": [
      "   TotalCharges  MonthlyCharges    tenure\n",
      "0     -0.994194       -1.161694 -1.280248\n",
      "1     -0.173740       -0.260878  0.064303\n",
      "2     -0.959649       -0.363923 -1.239504\n",
      "3     -0.195248       -0.747850  0.512486\n",
      "4     -0.940457        0.196178 -1.239504\n"
     ]
    }
   ],
   "source": [
    "from sklearn.preprocessing import StandardScaler\n",
    "\n",
    "# Initialize the scaler\n",
    "scaler = StandardScaler()\n",
    "\n",
    "# Fit and transform the specified columns\n",
    "df[['TotalCharges', 'MonthlyCharges', 'tenure']] = scaler.fit_transform(df[['TotalCharges', 'MonthlyCharges', 'tenure']])\n",
    "\n",
    "# Display the first few rows to verify the scaling\n",
    "print(df[['TotalCharges', 'MonthlyCharges', 'tenure']].head())"
   ]
  },
  {
   "cell_type": "code",
   "execution_count": null,
   "metadata": {},
   "outputs": [
    {
     "name": "stdout",
     "output_type": "stream",
     "text": [
      "Churn\n",
      "1    4130\n",
      "0    4130\n",
      "Name: count, dtype: int64\n"
     ]
    }
   ],
   "source": [
    "from sklearn.model_selection import train_test_split\n",
    "from imblearn.over_sampling import SMOTE\n",
    "\n",
    "X = df.drop('Churn', axis=1)\n",
    "y = df['Churn']\n",
    "# Split the data into training and testing sets\n",
    "X_train, X_test, y_train, y_test = train_test_split(X, y, test_size=0.2, random_state=42)\n",
    "\n",
    "# Initialize SMOTE\n",
    "smote = SMOTE()\n",
    "\n",
    "# Fit and apply SMOTE to the training data\n",
    "X_train_resampled, y_train_resampled = smote.fit_resample(X_train, y_train)\n",
    "\n",
    "# Combine the resampled features and target variable into a new DataFrame\n",
    "df_train_resampled = pd.DataFrame(X_train_resampled, columns=X.columns)\n",
    "df_train_resampled['Churn'] = y_train_resampled\n",
    "\n",
    "# Display the class distribution after resampling\n",
    "print(df_train_resampled['Churn'].value_counts())\n"
   ]
  },
  {
   "cell_type": "code",
   "execution_count": null,
   "metadata": {},
   "outputs": [
    {
     "name": "stdout",
     "output_type": "stream",
     "text": [
      "Best parameters found:  {'criterion': 'gini', 'max_depth': 5, 'min_samples_leaf': 2, 'min_samples_split': 2}\n",
      "Best cross-validation score:  0.814932487512501\n",
      "Best test F1 score:  0.5787139689578714\n"
     ]
    }
   ],
   "source": [
    "from sklearn.tree import DecisionTreeClassifier\n",
    "from sklearn.model_selection import GridSearchCV\n",
    "from sklearn.metrics import f1_score\n",
    "\n",
    "# Define the parameter grid\n",
    "param_grid = {\n",
    "    'criterion': ['gini', 'entropy'],\n",
    "    'max_depth': [1,5, 10, 20, 30, 40, 50],\n",
    "    'min_samples_split': [2, 5, 10],\n",
    "    'min_samples_leaf': [1, 2, 4]\n",
    "}\n",
    "\n",
    "# Initialize the Decision Tree classifier\n",
    "dt = DecisionTreeClassifier(random_state=42)\n",
    "\n",
    "# Initialize Grid Search with cross-validation\n",
    "grid_search = GridSearchCV(estimator=dt, param_grid=param_grid, cv=5, n_jobs=-1, scoring='f1')\n",
    "\n",
    "# Fit the grid search to the data\n",
    "grid_search.fit(X_train_resampled.drop(\"customerID\", axis=1), y_train_resampled)\n",
    "\n",
    "# Print the best parameters and the best score\n",
    "print(\"Best parameters found: \", grid_search.best_params_)\n",
    "print(\"Best cross-validation score: \", grid_search.best_score_)\n",
    "\n",
    "# Predict on the test set\n",
    "y_pred = grid_search.predict(X_test.drop(\"customerID\", axis=1))\n",
    "\n",
    "# Calculate and print the F1 score on the test set\n",
    "test_f1_score = f1_score(y_test, y_pred)\n",
    "print(\"Best test F1 score: \", test_f1_score)\n",
    "print(\"Best recall score: \", )"
   ]
  },
  {
   "cell_type": "code",
   "execution_count": 15,
   "metadata": {},
   "outputs": [
    {
     "name": "stdout",
     "output_type": "stream",
     "text": [
      "Churn\n",
      "1    4187\n",
      "0    4130\n",
      "Name: count, dtype: int64\n"
     ]
    }
   ],
   "source": [
    "from imblearn.over_sampling import ADASYN\n",
    "\n",
    "# Remove the customerID column\n",
    "X_train_no_id = X_train.drop('customerID', axis=1)\n",
    "\n",
    "# Initialize ADASYN\n",
    "adasyn = ADASYN()\n",
    "\n",
    "# Fit and apply ADASYN to the training data\n",
    "X_train_adasyn, y_train_adasyn = adasyn.fit_resample(X_train_no_id, y_train)\n",
    "\n",
    "# Combine the resampled features and target variable into a new DataFrame\n",
    "df_train_adasyn = pd.DataFrame(X_train_adasyn, columns=X_train_no_id.columns)\n",
    "df_train_adasyn['Churn'] = y_train_adasyn\n",
    "\n",
    "# Display the class distribution after resampling\n",
    "print(df_train_adasyn['Churn'].value_counts())"
   ]
  },
  {
   "cell_type": "code",
   "execution_count": 16,
   "metadata": {},
   "outputs": [
    {
     "name": "stdout",
     "output_type": "stream",
     "text": [
      "Best parameters found:  {'criterion': 'gini', 'max_depth': 10, 'min_samples_leaf': 1, 'min_samples_split': 5}\n",
      "Best cross-validation score:  0.7783539823326457\n",
      "Best test F1 score:  0.5537806176783813\n"
     ]
    }
   ],
   "source": [
    "# Initialize the Decision Tree classifier\n",
    "dt_adasyn = DecisionTreeClassifier(random_state=42)\n",
    "\n",
    "# Initialize Grid Search with cross-validation\n",
    "grid_search_adasyn = GridSearchCV(estimator=dt_adasyn, param_grid=param_grid, cv=5, n_jobs=-1, scoring='f1')\n",
    "\n",
    "# Fit the grid search to the ADASYN resampled data\n",
    "grid_search_adasyn.fit(X_train_adasyn, y_train_adasyn)\n",
    "\n",
    "# Print the best parameters and the best score\n",
    "print(\"Best parameters found: \", grid_search_adasyn.best_params_)\n",
    "print(\"Best cross-validation score: \", grid_search_adasyn.best_score_)\n",
    "\n",
    "# Predict on the test set\n",
    "y_pred_adasyn = grid_search_adasyn.predict(X_test.drop(\"customerID\", axis=1))\n",
    "\n",
    "# Calculate and print the F1 score on the test set\n",
    "test_f1_score_adasyn = f1_score(y_test, y_pred_adasyn)\n",
    "print(\"Best test F1 score: \", test_f1_score_adasyn)"
   ]
  },
  {
   "cell_type": "code",
   "execution_count": 17,
   "metadata": {},
   "outputs": [
    {
     "name": "stdout",
     "output_type": "stream",
     "text": [
      "Best parameters found from original data:  {'criterion': 'gini', 'max_depth': 5, 'min_samples_leaf': 2, 'min_samples_split': 2}\n",
      "Test F1 score with best parameters:  0.5828460038986355\n"
     ]
    }
   ],
   "source": [
    "# Perform grid search cross-validation on the original training data\n",
    "grid_search_original = GridSearchCV(estimator=dt, param_grid=param_grid, cv=5, n_jobs=-1, scoring='f1')\n",
    "grid_search_original.fit(X_train_no_id, y_train)\n",
    "\n",
    "# Get the best parameters from the grid search\n",
    "best_params = grid_search_original.best_params_\n",
    "print(\"Best parameters found from original data: \", best_params)\n",
    "\n",
    "# Initialize the Decision Tree classifier with the best parameters\n",
    "dt_best = DecisionTreeClassifier(**best_params, random_state=42)\n",
    "\n",
    "# Fit the classifier to the oversampled data\n",
    "dt_best.fit(X_train_adasyn, y_train_adasyn)\n",
    "\n",
    "# Predict on the test set\n",
    "y_pred_best = dt_best.predict(X_test.drop(\"customerID\", axis=1))\n",
    "\n",
    "# Calculate and print the F1 score on the test set\n",
    "test_f1_score_best = f1_score(y_test, y_pred_best)\n",
    "print(\"Test F1 score with best parameters: \", test_f1_score_best)"
   ]
  }
 ],
 "metadata": {
  "kernelspec": {
   "display_name": "mlfinal",
   "language": "python",
   "name": "python3"
  },
  "language_info": {
   "codemirror_mode": {
    "name": "ipython",
    "version": 3
   },
   "file_extension": ".py",
   "mimetype": "text/x-python",
   "name": "python",
   "nbconvert_exporter": "python",
   "pygments_lexer": "ipython3",
   "version": "3.11.4"
  }
 },
 "nbformat": 4,
 "nbformat_minor": 2
}
