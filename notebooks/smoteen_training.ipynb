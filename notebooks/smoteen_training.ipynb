{
 "cells": [
  {
   "cell_type": "code",
   "execution_count": 2,
   "metadata": {},
   "outputs": [],
   "source": [
    "import pandas as pd"
   ]
  },
  {
   "cell_type": "code",
   "execution_count": 3,
   "metadata": {},
   "outputs": [
    {
     "name": "stdout",
     "output_type": "stream",
     "text": [
      "   TotalCharges  MonthlyCharges    tenure\n",
      "0     -0.994194       -1.161694 -1.280248\n",
      "1     -0.173740       -0.260878  0.064303\n",
      "2     -0.959649       -0.363923 -1.239504\n",
      "3     -0.195248       -0.747850  0.512486\n",
      "4     -0.940457        0.196178 -1.239504\n"
     ]
    }
   ],
   "source": [
    "df = pd.read_csv('../data/label_encoded_telecom_data.csv')\n",
    "\n",
    "from sklearn.preprocessing import StandardScaler\n",
    "\n",
    "# Initialize the scaler\n",
    "scaler = StandardScaler()\n",
    "\n",
    "# Fit and transform the specified columns\n",
    "df[['TotalCharges', 'MonthlyCharges', 'tenure']] = scaler.fit_transform(df[['TotalCharges', 'MonthlyCharges', 'tenure']])\n",
    "\n",
    "# Display the first few rows to verify the scaling\n",
    "print(df[['TotalCharges', 'MonthlyCharges', 'tenure']].head())"
   ]
  },
  {
   "cell_type": "code",
   "execution_count": 43,
   "metadata": {},
   "outputs": [
    {
     "name": "stdout",
     "output_type": "stream",
     "text": [
      "Churn\n",
      "0    4130\n",
      "1    2470\n",
      "Name: count, dtype: int64\n"
     ]
    }
   ],
   "source": [
    "from sklearn.model_selection import train_test_split\n",
    "from imblearn.combine import SMOTEENN\n",
    "from imblearn.under_sampling import EditedNearestNeighbours\n",
    "\n",
    "# Separate the features and the target variable\n",
    "X = df.drop(['Churn', 'customerID'], axis=1)\n",
    "y = df['Churn']\n",
    "\n",
    "# Split the data into training and testing sets\n",
    "X_train, X_test, y_train, y_test = train_test_split(X, y, test_size=0.2, random_state=42, stratify=y)\n",
    "\n",
    "# Initialize the SMOTEENN object\n",
    "smote_enn = SMOTEENN(random_state=42, enn=EditedNearestNeighbours(n_neighbors=4, n_jobs=-1), sampling_strategy='minority')\n",
    "\n",
    "# Fit and resample the training data\n",
    "X_resampled, y_resampled = smote_enn.fit_resample(X_train, y_train)\n",
    "\n",
    "# Convert the resampled data back to a DataFrame\n",
    "df_resampled = pd.DataFrame(X_resampled, columns=X.columns)\n",
    "df_resampled['Churn'] = y_resampled\n",
    "\n",
    "# Display the class distribution after resampling\n",
    "print(df_resampled['Churn'].value_counts())"
   ]
  },
  {
   "cell_type": "code",
   "execution_count": 55,
   "metadata": {},
   "outputs": [
    {
     "name": "stdout",
     "output_type": "stream",
     "text": [
      "              precision    recall  f1-score   support\n",
      "\n",
      "           0       0.85      0.87      0.86      1033\n",
      "           1       0.62      0.58      0.60       374\n",
      "\n",
      "    accuracy                           0.79      1407\n",
      "   macro avg       0.74      0.72      0.73      1407\n",
      "weighted avg       0.79      0.79      0.79      1407\n",
      "\n",
      "              precision    recall  f1-score   support\n",
      "\n",
      "           0       0.91      0.88      0.90      4278\n",
      "           1       0.66      0.74      0.70      1347\n",
      "\n",
      "    accuracy                           0.85      5625\n",
      "   macro avg       0.79      0.81      0.80      5625\n",
      "weighted avg       0.85      0.85      0.85      5625\n",
      "\n",
      "0.5983379501385041\n",
      "Best hyperparameters: {'criterion': 'entropy', 'max_depth': 10, 'min_samples_leaf': 1, 'min_samples_split': 2}\n"
     ]
    }
   ],
   "source": [
    "from sklearn.tree import DecisionTreeClassifier\n",
    "from sklearn.model_selection import GridSearchCV\n",
    "from sklearn.ensemble import RandomForestClassifier\n",
    "from sklearn.metrics import classification_report, f1_score, make_scorer, roc_auc_score, recall_score\n",
    "\n",
    "scorer = make_scorer(f1_score, average='binary', pos_label = 1)\n",
    "\n",
    "# Initialize the Decision Tree classifier\n",
    "dt_classifier = RandomForestClassifier(random_state=42)\n",
    "\n",
    "# Define the hyperparameters and their values for tuning\n",
    "param_grid = {\n",
    "    'criterion': ['gini', 'entropy'],\n",
    "    'max_depth': [5, 7, 10],\n",
    "    'min_samples_split': [2, 5, 10],\n",
    "    'min_samples_leaf': [1, 2, 4]\n",
    "}\n",
    "\n",
    "# Initialize GridSearchCV with the classifier, parameter grid, and scoring metric\n",
    "grid_search = GridSearchCV(estimator=dt_classifier, param_grid=param_grid, scoring=scorer, cv=10, n_jobs=-1)\n",
    "\n",
    "# Fit the model to the resampled data\n",
    "grid_search.fit(X_resampled, y_resampled)\n",
    "\n",
    "# Get the best estimator\n",
    "best_dt_classifier = grid_search.best_estimator_\n",
    "\n",
    "# Predict on the original data\n",
    "y_pred = best_dt_classifier.predict(X_test)\n",
    "\n",
    "# Print the classification report\n",
    "print(classification_report(y_test, y_pred))\n",
    "\n",
    "print(classification_report(best_dt_classifier.predict(X_train), y_train))\n",
    "\n",
    "print(f1_score(y_test, y_pred, average='binary', pos_label=1))\n",
    "\n",
    "# Print the best hyperparameters\n",
    "print(\"Best hyperparameters:\", grid_search.best_params_)"
   ]
  }
 ],
 "metadata": {
  "kernelspec": {
   "display_name": "mlfinal",
   "language": "python",
   "name": "python3"
  },
  "language_info": {
   "codemirror_mode": {
    "name": "ipython",
    "version": 3
   },
   "file_extension": ".py",
   "mimetype": "text/x-python",
   "name": "python",
   "nbconvert_exporter": "python",
   "pygments_lexer": "ipython3",
   "version": "3.11.4"
  }
 },
 "nbformat": 4,
 "nbformat_minor": 2
}
